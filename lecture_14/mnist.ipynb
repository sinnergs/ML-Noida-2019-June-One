{
 "cells": [
  {
   "cell_type": "code",
   "execution_count": 1,
   "metadata": {},
   "outputs": [
    {
     "name": "stderr",
     "output_type": "stream",
     "text": [
      "Using TensorFlow backend.\n"
     ]
    }
   ],
   "source": [
    "from keras.models import Sequential\n",
    "from keras.layers import Dense\n",
    "from keras.losses import categorical_crossentropy\n",
    "from sklearn.datasets import make_blobs\n",
    "from sklearn.model_selection import train_test_split\n",
    "import matplotlib.pyplot as plt\n",
    "from sklearn.preprocessing import OneHotEncoder\n",
    "import pandas as pd\n",
    "import numpy as np"
   ]
  },
  {
   "cell_type": "code",
   "execution_count": 2,
   "metadata": {},
   "outputs": [],
   "source": [
    "data = pd.read_csv(\"../datasets/mnist_train_small.csv\").values"
   ]
  },
  {
   "cell_type": "code",
   "execution_count": 3,
   "metadata": {},
   "outputs": [],
   "source": [
    "X = data[:, 2:]\n",
    "y = data[:, 1]"
   ]
  },
  {
   "cell_type": "code",
   "execution_count": 4,
   "metadata": {},
   "outputs": [],
   "source": [
    "ohe = OneHotEncoder(categories=\"auto\")"
   ]
  },
  {
   "cell_type": "code",
   "execution_count": 5,
   "metadata": {},
   "outputs": [],
   "source": [
    "y_hot = ohe.fit_transform(y.reshape(-1, 1)).todense()"
   ]
  },
  {
   "cell_type": "code",
   "execution_count": 6,
   "metadata": {},
   "outputs": [],
   "source": [
    "X_train, X_test, y_train, y_test = train_test_split(\n",
    "...     X, y_hot, test_size=0.33, random_state=42)"
   ]
  },
  {
   "cell_type": "code",
   "execution_count": 7,
   "metadata": {},
   "outputs": [
    {
     "data": {
      "text/plain": [
       "(8000, 784)"
      ]
     },
     "execution_count": 7,
     "metadata": {},
     "output_type": "execute_result"
    }
   ],
   "source": [
    "X.shape"
   ]
  },
  {
   "cell_type": "code",
   "execution_count": 8,
   "metadata": {},
   "outputs": [
    {
     "name": "stdout",
     "output_type": "stream",
     "text": [
      "WARNING:tensorflow:From /usr/local/lib/python3.7/site-packages/tensorflow/python/framework/op_def_library.py:263: colocate_with (from tensorflow.python.framework.ops) is deprecated and will be removed in a future version.\n",
      "Instructions for updating:\n",
      "Colocations handled automatically by placer.\n",
      "_________________________________________________________________\n",
      "Layer (type)                 Output Shape              Param #   \n",
      "=================================================================\n",
      "dense_1 (Dense)              (None, 100)               78500     \n",
      "_________________________________________________________________\n",
      "dense_2 (Dense)              (None, 50)                5050      \n",
      "_________________________________________________________________\n",
      "dense_3 (Dense)              (None, 10)                510       \n",
      "=================================================================\n",
      "Total params: 84,060\n",
      "Trainable params: 84,060\n",
      "Non-trainable params: 0\n",
      "_________________________________________________________________\n"
     ]
    }
   ],
   "source": [
    "layer_1 = Dense(100, activation=\"tanh\", input_shape=[X.shape[1]])\n",
    "layer_3 = Dense(50, activation=\"tanh\")\n",
    "layer_4 = Dense(y_hot.shape[1], activation=\"softmax\")\n",
    "model = Sequential()\n",
    "model.add(layer_1)\n",
    "model.add(layer_3)\n",
    "model.add(layer_4)\n",
    "model.summary()"
   ]
  },
  {
   "cell_type": "code",
   "execution_count": 9,
   "metadata": {},
   "outputs": [],
   "source": [
    "model.compile(optimizer=\"adam\", loss=\"categorical_crossentropy\", metrics=[\"accuracy\"])"
   ]
  },
  {
   "cell_type": "code",
   "execution_count": 10,
   "metadata": {},
   "outputs": [
    {
     "name": "stdout",
     "output_type": "stream",
     "text": [
      "WARNING:tensorflow:From /usr/local/lib/python3.7/site-packages/tensorflow/python/ops/math_ops.py:3066: to_int32 (from tensorflow.python.ops.math_ops) is deprecated and will be removed in a future version.\n",
      "Instructions for updating:\n",
      "Use tf.cast instead.\n",
      "Epoch 1/40\n",
      "5360/5360 [==============================] - 0s 61us/step - loss: 1.4600 - acc: 0.5420\n",
      "Epoch 2/40\n",
      "5360/5360 [==============================] - 0s 25us/step - loss: 0.7225 - acc: 0.8049\n",
      "Epoch 3/40\n",
      "5360/5360 [==============================] - 0s 21us/step - loss: 0.5911 - acc: 0.8295\n",
      "Epoch 4/40\n",
      "5360/5360 [==============================] - 0s 21us/step - loss: 0.5098 - acc: 0.8522\n",
      "Epoch 5/40\n",
      "5360/5360 [==============================] - 0s 21us/step - loss: 0.4751 - acc: 0.8590\n",
      "Epoch 6/40\n",
      "5360/5360 [==============================] - 0s 20us/step - loss: 0.4517 - acc: 0.8636\n",
      "Epoch 7/40\n",
      "5360/5360 [==============================] - 0s 22us/step - loss: 0.4193 - acc: 0.8787\n",
      "Epoch 8/40\n",
      "5360/5360 [==============================] - 0s 23us/step - loss: 0.4265 - acc: 0.8705\n",
      "Epoch 9/40\n",
      "5360/5360 [==============================] - 0s 23us/step - loss: 0.3852 - acc: 0.8838\n",
      "Epoch 10/40\n",
      "5360/5360 [==============================] - 0s 23us/step - loss: 0.3579 - acc: 0.8972\n",
      "Epoch 11/40\n",
      "5360/5360 [==============================] - 0s 23us/step - loss: 0.3499 - acc: 0.8925\n",
      "Epoch 12/40\n",
      "5360/5360 [==============================] - 0s 22us/step - loss: 0.3543 - acc: 0.8922\n",
      "Epoch 13/40\n",
      "5360/5360 [==============================] - 0s 22us/step - loss: 0.3640 - acc: 0.8882\n",
      "Epoch 14/40\n",
      "5360/5360 [==============================] - 0s 21us/step - loss: 0.3784 - acc: 0.8860\n",
      "Epoch 15/40\n",
      "5360/5360 [==============================] - 0s 21us/step - loss: 0.3480 - acc: 0.8907\n",
      "Epoch 16/40\n",
      "5360/5360 [==============================] - 0s 21us/step - loss: 0.3439 - acc: 0.8920\n",
      "Epoch 17/40\n",
      "5360/5360 [==============================] - 0s 20us/step - loss: 0.3116 - acc: 0.9034\n",
      "Epoch 18/40\n",
      "5360/5360 [==============================] - 0s 21us/step - loss: 0.3267 - acc: 0.8987\n",
      "Epoch 19/40\n",
      "5360/5360 [==============================] - 0s 21us/step - loss: 0.3158 - acc: 0.9007\n",
      "Epoch 20/40\n",
      "5360/5360 [==============================] - 0s 23us/step - loss: 0.3136 - acc: 0.8985\n",
      "Epoch 21/40\n",
      "5360/5360 [==============================] - 0s 25us/step - loss: 0.3194 - acc: 0.9026\n",
      "Epoch 22/40\n",
      "5360/5360 [==============================] - 0s 21us/step - loss: 0.3097 - acc: 0.9045\n",
      "Epoch 23/40\n",
      "5360/5360 [==============================] - 0s 21us/step - loss: 0.3050 - acc: 0.9075\n",
      "Epoch 24/40\n",
      "5360/5360 [==============================] - 0s 21us/step - loss: 0.2951 - acc: 0.8993\n",
      "Epoch 25/40\n",
      "5360/5360 [==============================] - 0s 21us/step - loss: 0.2901 - acc: 0.9088\n",
      "Epoch 26/40\n",
      "5360/5360 [==============================] - 0s 21us/step - loss: 0.2789 - acc: 0.9093\n",
      "Epoch 27/40\n",
      "5360/5360 [==============================] - 0s 22us/step - loss: 0.2868 - acc: 0.9091\n",
      "Epoch 28/40\n",
      "5360/5360 [==============================] - 0s 23us/step - loss: 0.2877 - acc: 0.9080\n",
      "Epoch 29/40\n",
      "5360/5360 [==============================] - 0s 23us/step - loss: 0.2606 - acc: 0.9196\n",
      "Epoch 30/40\n",
      "5360/5360 [==============================] - 0s 22us/step - loss: 0.2565 - acc: 0.9183\n",
      "Epoch 31/40\n",
      "5360/5360 [==============================] - 0s 21us/step - loss: 0.2671 - acc: 0.9166\n",
      "Epoch 32/40\n",
      "5360/5360 [==============================] - 0s 21us/step - loss: 0.2857 - acc: 0.9114\n",
      "Epoch 33/40\n",
      "5360/5360 [==============================] - 0s 23us/step - loss: 0.2834 - acc: 0.9108\n",
      "Epoch 34/40\n",
      "5360/5360 [==============================] - 0s 21us/step - loss: 0.2831 - acc: 0.9127\n",
      "Epoch 35/40\n",
      "5360/5360 [==============================] - 0s 23us/step - loss: 0.2690 - acc: 0.9172\n",
      "Epoch 36/40\n",
      "5360/5360 [==============================] - 0s 25us/step - loss: 0.2794 - acc: 0.9071\n",
      "Epoch 37/40\n",
      "5360/5360 [==============================] - 0s 24us/step - loss: 0.2865 - acc: 0.9106\n",
      "Epoch 38/40\n",
      "5360/5360 [==============================] - 0s 27us/step - loss: 0.2782 - acc: 0.9118\n",
      "Epoch 39/40\n",
      "5360/5360 [==============================] - 0s 25us/step - loss: 0.2591 - acc: 0.9183\n",
      "Epoch 40/40\n",
      "5360/5360 [==============================] - 0s 23us/step - loss: 0.2458 - acc: 0.9205\n"
     ]
    },
    {
     "data": {
      "text/plain": [
       "<keras.callbacks.History at 0x10e61ac18>"
      ]
     },
     "execution_count": 10,
     "metadata": {},
     "output_type": "execute_result"
    }
   ],
   "source": [
    "model.fit(X_train, y_train, epochs=40, batch_size=100)"
   ]
  },
  {
   "cell_type": "code",
   "execution_count": 11,
   "metadata": {},
   "outputs": [
    {
     "name": "stdout",
     "output_type": "stream",
     "text": [
      "2640/2640 [==============================] - 0s 36us/step\n"
     ]
    },
    {
     "data": {
      "text/plain": [
       "[0.32647143042448795, 0.8878787878787879]"
      ]
     },
     "execution_count": 11,
     "metadata": {},
     "output_type": "execute_result"
    }
   ],
   "source": [
    "model.evaluate(X_test, y_test)"
   ]
  },
  {
   "cell_type": "code",
   "execution_count": 12,
   "metadata": {},
   "outputs": [
    {
     "data": {
      "text/plain": [
       "array([9])"
      ]
     },
     "execution_count": 12,
     "metadata": {},
     "output_type": "execute_result"
    }
   ],
   "source": [
    "np.argmax(model.predict(X_test[:1]), axis=1)"
   ]
  },
  {
   "cell_type": "code",
   "execution_count": 13,
   "metadata": {},
   "outputs": [
    {
     "data": {
      "text/plain": [
       "matrix([[0., 0., 0., 0., 0., 0., 0., 0., 0., 1.]])"
      ]
     },
     "execution_count": 13,
     "metadata": {},
     "output_type": "execute_result"
    }
   ],
   "source": [
    "y_test[0]"
   ]
  },
  {
   "cell_type": "code",
   "execution_count": 14,
   "metadata": {},
   "outputs": [
    {
     "data": {
      "text/plain": [
       "array([[6.8760774e-06, 8.8684510e-06, 2.0859113e-06, 1.9751885e-03,\n",
       "        4.1354788e-03, 1.6605976e-04, 6.4740498e-06, 6.1780680e-04,\n",
       "        9.0634049e-04, 9.9217480e-01]], dtype=float32)"
      ]
     },
     "execution_count": 14,
     "metadata": {},
     "output_type": "execute_result"
    }
   ],
   "source": [
    "model.predict(X_test[:1])"
   ]
  },
  {
   "cell_type": "code",
   "execution_count": 25,
   "metadata": {},
   "outputs": [
    {
     "name": "stdout",
     "output_type": "stream",
     "text": [
      "[[0 7 6 4 1 9 5 8 2 3]]\n"
     ]
    },
    {
     "data": {
      "text/plain": [
       "<matplotlib.image.AxesImage at 0x12af9ec18>"
      ]
     },
     "execution_count": 25,
     "metadata": {},
     "output_type": "execute_result"
    },
    {
     "data": {
      "image/png": "[encoded data removed]",
      "text/plain": [
       "<Figure size 432x288 with 1 Axes>"
      ]
     },
     "metadata": {
      "needs_background": "light"
     },
     "output_type": "display_data"
    }
   ],
   "source": [
    "import cv2\n",
    "one = cv2.imread(\"../datasets/nums/eight.jpeg\")\n",
    "gray = cv2.cvtColor(one, cv2.COLOR_BGR2GRAY)\n",
    "small = cv2.resize(gray, (28, 28))\n",
    "small = (small < 100).astype(int) * 255\n",
    "print(np.argsort(model.predict(np.array([small.flatten()]))))\n",
    "plt.imshow(small)"
   ]
  }
 ],
 "metadata": {
  "kernelspec": {
   "display_name": "Python 3",
   "language": "python",
   "name": "python3"
  },
  "language_info": {
   "codemirror_mode": {
    "name": "ipython",
    "version": 3
   },
   "file_extension": ".py",
   "mimetype": "text/x-python",
   "name": "python",
   "nbconvert_exporter": "python",
   "pygments_lexer": "ipython3",
   "version": "3.6.8"
  }
 },
 "nbformat": 4,
 "nbformat_minor": 2
}
